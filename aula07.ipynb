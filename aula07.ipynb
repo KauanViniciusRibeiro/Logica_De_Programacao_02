{
 "cells": [
  {
   "cell_type": "markdown",
   "metadata": {},
   "source": [
    "*Italico* ou _Italico_\n",
    "**Negrito** ou __Negrito__\n",
    "**__Negrito e Italico__**\n",
    "\n",
    "# Cabeçalho 1\n",
    "## Cabeçalho 2\n",
    "\n",
    "1. Primeiro item da lista ordenada\n",
    "2. Segundo item da lista ordenada\n",
    "\n",
    "- Lista não ordenada\n",
    "    - Segundo item da lista não ordenada\n",
    "\n",
    "![Texto do link](http://exemplo.com)"
   ]
  },
  {
   "cell_type": "code",
   "execution_count": 6,
   "metadata": {},
   "outputs": [
    {
     "name": "stdout",
     "output_type": "stream",
     "text": [
      "[1, 2, 3, 4, 5, 6, 7]\n",
      "[1, 3, 4, 5, 6, 7]\n"
     ]
    }
   ],
   "source": [
    "lista = [1,2,3,4,5,6,7]\n",
    "print(lista)\n",
    "lista.remove(2)\n",
    "print(lista)"
   ]
  },
  {
   "cell_type": "code",
   "execution_count": 2,
   "metadata": {},
   "outputs": [
    {
     "name": "stdout",
     "output_type": "stream",
     "text": [
      "Kauan 16\n"
     ]
    }
   ],
   "source": [
    "nome = 'Kauan'\n",
    "idade = 16\n",
    "\n",
    "print(nome, idade)"
   ]
  },
  {
   "cell_type": "code",
   "execution_count": 9,
   "metadata": {},
   "outputs": [
    {
     "name": "stdout",
     "output_type": "stream",
     "text": [
      "1° Kauan\n",
      "2° Vinicius\n",
      "3° Ribeiro\n",
      "4° Rocha\n"
     ]
    }
   ],
   "source": [
    "nome = ['Kauan', 'Vinicius', 'Ribeiro', 'Rocha']\n",
    "\n",
    "for i, j in enumerate(nome):\n",
    "    print(f'{i+1}° {j}')"
   ]
  },
  {
   "cell_type": "code",
   "execution_count": 7,
   "metadata": {},
   "outputs": [
    {
     "name": "stdout",
     "output_type": "stream",
     "text": [
      "K\n",
      "a\n",
      "u\n",
      "a\n",
      "n\n"
     ]
    }
   ],
   "source": [
    "nome = 'Kauan'\n",
    "\n",
    "for i in nome:\n",
    "    print(i)"
   ]
  },
  {
   "cell_type": "code",
   "execution_count": 10,
   "metadata": {},
   "outputs": [
    {
     "name": "stdout",
     "output_type": "stream",
     "text": [
      "Kauan\n",
      "Vinicius\n",
      "Ribeiro\n",
      "Rocha\n"
     ]
    }
   ],
   "source": [
    "nome = ['Kauan', 'Vinicius', 'Ribeiro', 'Rocha']\n",
    "\n",
    "for i in nome:\n",
    "    print(i)"
   ]
  },
  {
   "cell_type": "code",
   "execution_count": 14,
   "metadata": {},
   "outputs": [
    {
     "name": "stdout",
     "output_type": "stream",
     "text": [
      "0\n",
      "2\n",
      "4\n",
      "6\n",
      "8\n"
     ]
    }
   ],
   "source": [
    "for i in range(0, 10, +2):\n",
    "    print(i)"
   ]
  },
  {
   "cell_type": "code",
   "execution_count": 5,
   "metadata": {},
   "outputs": [
    {
     "name": "stdout",
     "output_type": "stream",
     "text": [
      "0\n",
      "1\n",
      "2\n",
      "3\n",
      "4\n",
      "5\n",
      "6\n",
      "7\n",
      "8\n",
      "9\n",
      "10\n"
     ]
    }
   ],
   "source": [
    "inicio = int(input('Digite o numero onde começa a contagem: '))\n",
    "fim = int(input('Digite o numero onde termina a contagem: '))\n",
    "\n",
    "for i in range(inicio, fim, +1):\n",
    "    print(i)"
   ]
  },
  {
   "cell_type": "code",
   "execution_count": 7,
   "metadata": {},
   "outputs": [
    {
     "name": "stdout",
     "output_type": "stream",
     "text": [
      "0\n",
      "2\n",
      "4\n",
      "6\n",
      "8\n",
      "10\n",
      "12\n",
      "14\n",
      "16\n",
      "18\n",
      "20\n"
     ]
    }
   ],
   "source": [
    "for i in range(0, 21):\n",
    "    if i % 2 == 0:\n",
    "        print(i)"
   ]
  },
  {
   "cell_type": "code",
   "execution_count": 8,
   "metadata": {},
   "outputs": [
    {
     "name": "stdout",
     "output_type": "stream",
     "text": [
      "7 X 1 = 7\n",
      "7 X 2 = 14\n",
      "7 X 3 = 21\n",
      "7 X 4 = 28\n",
      "7 X 5 = 35\n",
      "7 X 6 = 42\n",
      "7 X 7 = 49\n",
      "7 X 8 = 56\n",
      "7 X 9 = 63\n",
      "7 X 10 = 70\n"
     ]
    }
   ],
   "source": [
    "X = int(input('Digite o numero da tabuada: '))\n",
    "\n",
    "for num in range(1, 11):\n",
    "    print(f'{X} X {num} = {X * num}')"
   ]
  },
  {
   "cell_type": "code",
   "execution_count": 10,
   "metadata": {},
   "outputs": [
    {
     "name": "stdout",
     "output_type": "stream",
     "text": [
      "não encontrado\n",
      "não encontrado\n",
      "não encontrado\n",
      "não encontrado\n",
      "limao\n",
      "não encontrado\n"
     ]
    }
   ],
   "source": [
    "lista = ['uva', 'pera', 'melancia', 'abacate', 'limao', 'manga']\n",
    "\n",
    "for i in lista:\n",
    "    if i == 'limao':\n",
    "        print(i)\n",
    "    else:\n",
    "        print('não encontrado')"
   ]
  },
  {
   "cell_type": "code",
   "execution_count": 16,
   "metadata": {},
   "outputs": [
    {
     "name": "stdout",
     "output_type": "stream",
     "text": [
      "10\n",
      "9\n",
      "8\n",
      "7\n",
      "6\n",
      "5\n",
      "4\n",
      "3\n",
      "2\n",
      "1\n",
      "0\n",
      "Fim da contagem\n"
     ]
    }
   ],
   "source": [
    "from time import sleep\n",
    "x = int(input('Digite o numero de segundos da contagem regressiva: '))\n",
    "\n",
    "for i in range(x, -1, -1):\n",
    "    print(i)\n",
    "    sleep(1)\n",
    "\n",
    "print('Fim da contagem')"
   ]
  }
 ],
 "metadata": {
  "kernelspec": {
   "display_name": "venv",
   "language": "python",
   "name": "python3"
  },
  "language_info": {
   "codemirror_mode": {
    "name": "ipython",
    "version": 3
   },
   "file_extension": ".py",
   "mimetype": "text/x-python",
   "name": "python",
   "nbconvert_exporter": "python",
   "pygments_lexer": "ipython3",
   "version": "3.12.5"
  }
 },
 "nbformat": 4,
 "nbformat_minor": 2
}
